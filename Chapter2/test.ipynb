{
  "nbformat": 4,
  "nbformat_minor": 0,
  "metadata": {
    "colab": {
      "provenance": [],
      "authorship_tag": "ABX9TyPw9IUI+FZfaPSTxG30HGVV",
      "include_colab_link": true
    },
    "kernelspec": {
      "name": "python3",
      "display_name": "Python 3"
    },
    "language_info": {
      "name": "python"
    }
  },
  "cells": [
    {
      "cell_type": "markdown",
      "metadata": {
        "id": "view-in-github",
        "colab_type": "text"
      },
      "source": [
        "<a href=\"https://colab.research.google.com/github/Jiwook-Kim/HelloJava/blob/main/Chapter2/test.ipynb\" target=\"_parent\"><img src=\"https://colab.research.google.com/assets/colab-badge.svg\" alt=\"Open In Colab\"/></a>"
      ]
    },
    {
      "cell_type": "markdown",
      "source": [
        "Chapter 2 머신러닝 프로젝트 처음부터 끝까지"
      ],
      "metadata": {
        "id": "9ZyvmYlsm5Ri"
      }
    },
    {
      "cell_type": "code",
      "source": [],
      "metadata": {
        "id": "R4tKwbTGmiPI"
      },
      "execution_count": null,
      "outputs": []
    }
  ]
}